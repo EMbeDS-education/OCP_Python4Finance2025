{
 "cells": [
  {
   "cell_type": "code",
   "execution_count": 1,
   "id": "a284633c",
   "metadata": {},
   "outputs": [
    {
     "name": "stdout",
     "output_type": "stream",
     "text": [
      "Ciao\n"
     ]
    }
   ],
   "source": [
    "print('Ciao')"
   ]
  },
  {
   "cell_type": "markdown",
   "id": "45d63361",
   "metadata": {},
   "source": [
    "# Hints on settings\n",
    "- To see the line numbers, click on the left of a cell, below the triangle, and type ctrl+L\n",
    "- To switch among light/dark mode, click on File -> Preferences -> Settings. Then search for Workbenck: color them, and select Light (Visual Studio)"
   ]
  },
  {
   "cell_type": "markdown",
   "id": "862b65ac",
   "metadata": {},
   "source": [
    "# Run cells\n",
    "- Click Run All to run all cells\n",
    "- Right-click on a cell to\n",
    "  - Run all cells below\n",
    "  - Run all cells above     "
   ]
  },
  {
   "cell_type": "markdown",
   "id": "069c336c",
   "metadata": {},
   "source": [
    "# Copilot\n",
    "By using comments, we can ask Copilot to write code for us"
   ]
  },
  {
   "cell_type": "code",
   "execution_count": 2,
   "id": "b2ae6363",
   "metadata": {},
   "outputs": [
    {
     "name": "stdout",
     "output_type": "stream",
     "text": [
      "ciao\n"
     ]
    }
   ],
   "source": [
    "# Write a Python script that prints \"ciao\" to the console.      \n",
    "print(\"ciao\")   "
   ]
  },
  {
   "cell_type": "markdown",
   "id": "a7eb5528",
   "metadata": {},
   "source": [
    "If in the chat we write:\n",
    "- Write a program to compute the factorial of the first n integers, with n given from terminal\n",
    "\n",
    "we get this:"
   ]
  },
  {
   "cell_type": "code",
   "execution_count": null,
   "id": "a8042f63",
   "metadata": {},
   "outputs": [],
   "source": [
    "# Program to compute factorial of first n integers\n",
    "import math\n",
    "\n",
    "def factorial_iterative(num):\n",
    "    \"\"\"Compute factorial using iterative approach\"\"\"\n",
    "    if num < 0:\n",
    "        return None\n",
    "    elif num == 0 or num == 1:\n",
    "        return 1\n",
    "    else:\n",
    "        result = 1\n",
    "        for i in range(2, num + 1):\n",
    "            result *= i\n",
    "        return result\n",
    "\n",
    "def factorial_recursive(num):\n",
    "    \"\"\"Compute factorial using recursive approach\"\"\"\n",
    "    if num < 0:\n",
    "        return None\n",
    "    elif num == 0 or num == 1:\n",
    "        return 1\n",
    "    else:\n",
    "        return num * factorial_recursive(num - 1)\n",
    "\n",
    "# Get input from user\n",
    "try:\n",
    "    n = int(input(\"Enter the number of integers to compute factorial for: \"))\n",
    "    if n <= 0:\n",
    "        print(\"Please enter a positive integer.\")\n",
    "    else:\n",
    "        print(f\"\\nFactorials of first {n} integers:\")\n",
    "        print(\"-\" * 40)\n",
    "        \n",
    "        for i in range(1, n + 1):\n",
    "            # Using iterative method\n",
    "            fact_iter = factorial_iterative(i)\n",
    "            # Using built-in math.factorial for verification\n",
    "            fact_builtin = math.factorial(i)\n",
    "            \n",
    "            print(f\"{i}! = {fact_iter}\")\n",
    "            \n",
    "        print(f\"\\nUsing different methods:\")\n",
    "        print(f\"Iterative: {n}! = {factorial_iterative(n)}\")\n",
    "        print(f\"Recursive: {n}! = {factorial_recursive(n)}\")\n",
    "        print(f\"Built-in:  {n}! = {math.factorial(n)}\")\n",
    "        \n",
    "except ValueError:\n",
    "    print(\"Invalid input! Please enter a valid integer.\")\n",
    "except RecursionError:\n",
    "    print(\"Number too large for recursive calculation!\")"
   ]
  }
 ],
 "metadata": {
  "kernelspec": {
   "display_name": "env_py4fin_2025",
   "language": "python",
   "name": "env_py4fin_2025"
  },
  "language_info": {
   "codemirror_mode": {
    "name": "ipython",
    "version": 3
   },
   "file_extension": ".py",
   "mimetype": "text/x-python",
   "name": "python",
   "nbconvert_exporter": "python",
   "pygments_lexer": "ipython3",
   "version": "3.11.9"
  }
 },
 "nbformat": 4,
 "nbformat_minor": 5
}
